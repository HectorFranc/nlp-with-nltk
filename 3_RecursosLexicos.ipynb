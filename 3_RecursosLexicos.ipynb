{
  "nbformat": 4,
  "nbformat_minor": 0,
  "metadata": {
    "colab": {
      "name": "3.-RecursosLexicos.ipynb",
      "provenance": [],
      "collapsed_sections": [
        "6hLLsNFePjLl",
        "Uf3_DD4cS6u9"
      ],
      "authorship_tag": "ABX9TyMyK6syT7Bfu31V94OPVdtC"
    },
    "kernelspec": {
      "name": "python3",
      "display_name": "Python 3"
    }
  },
  "cells": [
    {
      "cell_type": "code",
      "metadata": {
        "id": "oxmM-TwhNbK8",
        "colab_type": "code",
        "colab": {}
      },
      "source": [
        "import nltk\n",
        "nltk.download('book')\n",
        "from nltk import book\n",
        "from nltk.corpus import stopwords"
      ],
      "execution_count": 0,
      "outputs": []
    },
    {
      "cell_type": "markdown",
      "metadata": {
        "id": "6hLLsNFePjLl",
        "colab_type": "text"
      },
      "source": [
        "## Recursos léxicos (lexicons)\n",
        "---"
      ]
    },
    {
      "cell_type": "code",
      "metadata": {
        "id": "hsjEb56kOENg",
        "colab_type": "code",
        "colab": {
          "base_uri": "https://localhost:8080/",
          "height": 36
        },
        "outputId": "57a38e1d-4884-4030-c2af-e27b01dae8bd"
      },
      "source": [
        "# Vocabulario: Palabras únicas en un corpus (Lexicon NO enriquecido)\n",
        "vocab = sorted(set(book.text1))\n",
        "vocab[500:505]"
      ],
      "execution_count": 2,
      "outputs": [
        {
          "output_type": "execute_result",
          "data": {
            "text/plain": [
              "['August', 'Aunt', 'Australia', 'Australian', 'Austrian']"
            ]
          },
          "metadata": {
            "tags": []
          },
          "execution_count": 2
        }
      ]
    },
    {
      "cell_type": "code",
      "metadata": {
        "id": "ZUgubdPyOvVm",
        "colab_type": "code",
        "colab": {}
      },
      "source": [
        "# Distribuciones: Frecuencia de aparición (Lexicon enriquecido)\n",
        "word_freq = book.FreqDist(book.text1)"
      ],
      "execution_count": 0,
      "outputs": []
    },
    {
      "cell_type": "code",
      "metadata": {
        "id": "iwpjCcZ3Qlqq",
        "colab_type": "code",
        "colab": {
          "base_uri": "https://localhost:8080/",
          "height": 36
        },
        "outputId": "2fc9b617-e9c1-408a-fe79-e09c7be086df"
      },
      "source": [
        "# Stopwords: Palabras muy usadas en el lenguaje que usualmente son filtradas en un pipeline de NLP (useless words) (Lexicon NO enriquecido)\n",
        "stopwords.words('spanish')[:10]"
      ],
      "execution_count": 6,
      "outputs": [
        {
          "output_type": "execute_result",
          "data": {
            "text/plain": [
              "['de', 'la', 'que', 'el', 'en', 'y', 'a', 'los', 'del', 'se']"
            ]
          },
          "metadata": {
            "tags": []
          },
          "execution_count": 6
        }
      ]
    },
    {
      "cell_type": "markdown",
      "metadata": {
        "id": "Uf3_DD4cS6u9",
        "colab_type": "text"
      },
      "source": [
        "## Fracción  de Stopwords en un corpus\n",
        "---"
      ]
    },
    {
      "cell_type": "code",
      "metadata": {
        "id": "MynYP5o3RwFM",
        "colab_type": "code",
        "colab": {}
      },
      "source": [
        "def stopwords_percentage(text):\n",
        "  stopwd = stopwords.words('english')\n",
        "  content =  [w for w in text if w.lower() not in stopwd]\n",
        "  return len(content) / len(text)"
      ],
      "execution_count": 0,
      "outputs": []
    },
    {
      "cell_type": "code",
      "metadata": {
        "id": "W5INyxdFUTIR",
        "colab_type": "code",
        "colab": {
          "base_uri": "https://localhost:8080/",
          "height": 36
        },
        "outputId": "af1106d0-ba88-4896-b963-229f460e2f54"
      },
      "source": [
        "stopwords_percentage(book.text1)"
      ],
      "execution_count": 25,
      "outputs": [
        {
          "output_type": "execute_result",
          "data": {
            "text/plain": [
              "0.5862954769399469"
            ]
          },
          "metadata": {
            "tags": []
          },
          "execution_count": 25
        }
      ]
    },
    {
      "cell_type": "code",
      "metadata": {
        "id": "tUqleEF5XwkZ",
        "colab_type": "code",
        "colab": {
          "base_uri": "https://localhost:8080/",
          "height": 36
        },
        "outputId": "9a716c7a-d2c8-4c48-f817-3d4babc49f74"
      },
      "source": [
        "# Experimento !!!\n",
        "DH_text1_dist = book.FreqDist(book.text1)\n",
        "DH_freqs = {word: DH_text1_dist[word] for word in stopwords.words('english')}\n",
        "stopwords_percentage(book.text1) + sum(DH_freqs.values())/len(book.text1)"
      ],
      "execution_count": 28,
      "outputs": [
        {
          "output_type": "execute_result",
          "data": {
            "text/plain": [
              "0.9679432863403357"
            ]
          },
          "metadata": {
            "tags": []
          },
          "execution_count": 28
        }
      ]
    },
    {
      "cell_type": "markdown",
      "metadata": {
        "id": "Fmz71a09fod_",
        "colab_type": "text"
      },
      "source": [
        "## Lexicons enriquecidos (listas comparativas de palabras)\n",
        "---\n",
        "Diccionarios para traducción"
      ]
    },
    {
      "cell_type": "code",
      "metadata": {
        "id": "BjcnNwkBboUB",
        "colab_type": "code",
        "colab": {
          "base_uri": "https://localhost:8080/",
          "height": 473
        },
        "outputId": "b27c859b-5286-4840-8027-14900f1e3dc4"
      },
      "source": [
        "from nltk.corpus import swadesh\n",
        "swadesh.fileids()"
      ],
      "execution_count": 30,
      "outputs": [
        {
          "output_type": "execute_result",
          "data": {
            "text/plain": [
              "['be',\n",
              " 'bg',\n",
              " 'bs',\n",
              " 'ca',\n",
              " 'cs',\n",
              " 'cu',\n",
              " 'de',\n",
              " 'en',\n",
              " 'es',\n",
              " 'fr',\n",
              " 'hr',\n",
              " 'it',\n",
              " 'la',\n",
              " 'mk',\n",
              " 'nl',\n",
              " 'pl',\n",
              " 'pt',\n",
              " 'ro',\n",
              " 'ru',\n",
              " 'sk',\n",
              " 'sl',\n",
              " 'sr',\n",
              " 'sw',\n",
              " 'uk']"
            ]
          },
          "metadata": {
            "tags": []
          },
          "execution_count": 30
        }
      ]
    },
    {
      "cell_type": "code",
      "metadata": {
        "id": "LOhQwt6LhdgZ",
        "colab_type": "code",
        "colab": {
          "base_uri": "https://localhost:8080/",
          "height": 36
        },
        "outputId": "0b6c9deb-1d09-4bef-ec02-3e6c7b3d1dcd"
      },
      "source": [
        "swadesh.words('en')[:7]"
      ],
      "execution_count": 35,
      "outputs": [
        {
          "output_type": "execute_result",
          "data": {
            "text/plain": [
              "['I', 'you (singular), thou', 'he', 'we', 'you (plural)', 'they', 'this']"
            ]
          },
          "metadata": {
            "tags": []
          },
          "execution_count": 35
        }
      ]
    },
    {
      "cell_type": "code",
      "metadata": {
        "id": "PxrXsVzVhm6e",
        "colab_type": "code",
        "colab": {
          "base_uri": "https://localhost:8080/",
          "height": 112
        },
        "outputId": "f4eec781-cf81-4d18-8d7a-8d3343650014"
      },
      "source": [
        "fr2es = swadesh.entries(['fr', 'es'])\n",
        "fr2es[:5]"
      ],
      "execution_count": 41,
      "outputs": [
        {
          "output_type": "execute_result",
          "data": {
            "text/plain": [
              "[('je', 'yo'),\n",
              " ('tu, vous', 'tú, usted'),\n",
              " ('il', 'él'),\n",
              " ('nous', 'nosotros'),\n",
              " ('vous', 'vosotros, ustedes')]"
            ]
          },
          "metadata": {
            "tags": []
          },
          "execution_count": 41
        }
      ]
    },
    {
      "cell_type": "code",
      "metadata": {
        "id": "LJ7L7TdPh8q8",
        "colab_type": "code",
        "colab": {
          "base_uri": "https://localhost:8080/",
          "height": 36
        },
        "outputId": "4498d0d8-5c48-4fa3-a7fb-400c8f81854f"
      },
      "source": [
        "translate = dict(fr2es)\n",
        "translate['chien']"
      ],
      "execution_count": 48,
      "outputs": [
        {
          "output_type": "execute_result",
          "data": {
            "text/plain": [
              "'perro'"
            ]
          },
          "metadata": {
            "tags": []
          },
          "execution_count": 48
        }
      ]
    },
    {
      "cell_type": "markdown",
      "metadata": {
        "id": "uvhWZlC4jdvH",
        "colab_type": "text"
      },
      "source": [
        "### Experimento\n"
      ]
    },
    {
      "cell_type": "code",
      "metadata": {
        "id": "oWLkPNh9id3Y",
        "colab_type": "code",
        "colab": {
          "base_uri": "https://localhost:8080/",
          "height": 36
        },
        "outputId": "8677c210-81fd-40ee-a8b1-82efb8e5b5f4"
      },
      "source": [
        "from nltk.tokenize import word_tokenize\n",
        "\n",
        "DH_translator = dict(swadesh.entries(['en', 'es']))\n",
        "def translate_word(translator, word):\n",
        "  try:\n",
        "    translation = translator[word.lower()]\n",
        "    if ',' in translation:\n",
        "      return f'({translation})'\n",
        "    else:\n",
        "      return translation\n",
        "  except KeyError:\n",
        "    return f'!{word}!'\n",
        "\n",
        "def translate(translator, sentence):\n",
        "  tokens = word_tokenize(sentence)\n",
        "  result = ' '.join(translate_word(translator, token) for token in tokens)\n",
        "  return result\n",
        "\n",
        "translate(DH_translator, 'Big red bird')"
      ],
      "execution_count": 62,
      "outputs": [
        {
          "output_type": "execute_result",
          "data": {
            "text/plain": [
              "'grande rojo (ave, pájaro)'"
            ]
          },
          "metadata": {
            "tags": []
          },
          "execution_count": 62
        }
      ]
    },
    {
      "cell_type": "code",
      "metadata": {
        "id": "bXylxcsTltGJ",
        "colab_type": "code",
        "colab": {}
      },
      "source": [
        ""
      ],
      "execution_count": 0,
      "outputs": []
    }
  ]
}