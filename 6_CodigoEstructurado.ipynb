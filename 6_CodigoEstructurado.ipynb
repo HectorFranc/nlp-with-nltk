{
  "nbformat": 4,
  "nbformat_minor": 0,
  "metadata": {
    "colab": {
      "name": "6.-CodigoEstructurado.ipynb",
      "provenance": [],
      "collapsed_sections": [],
      "mount_file_id": "1Qkc4GfISqtEdd-1nNLuOpxDwrzKrXk0O",
      "authorship_tag": "ABX9TyOAOSCzJeR0Kq8ZqcKRvVIB"
    },
    "kernelspec": {
      "name": "python3",
      "display_name": "Python 3"
    }
  },
  "cells": [
    {
      "cell_type": "code",
      "metadata": {
        "id": "vp8uB8M12TGh",
        "colab_type": "code",
        "colab": {}
      },
      "source": [
        "from google.colab import drive\n",
        "drive.mount('/content/drive')"
      ],
      "execution_count": 0,
      "outputs": []
    },
    {
      "cell_type": "code",
      "metadata": {
        "id": "K5DsIB6V2okC",
        "colab_type": "code",
        "colab": {}
      },
      "source": [
        "filepath = '/content/drive/My Drive/Colab Notebooks/NLP_course/'"
      ],
      "execution_count": 0,
      "outputs": []
    },
    {
      "cell_type": "code",
      "metadata": {
        "id": "bHjp7hTk3qiq",
        "colab_type": "code",
        "colab": {}
      },
      "source": [
        "# Saved at read.py\n",
        "import re\n",
        "def get_text(file):\n",
        "  \"\"\"Read text from file...\"\"\"\n",
        "  text = open(file).read()\n",
        "  text = re.sub(r'<.*?>', ' ', text)\n",
        "  text = re.sub(r'\\s+', ' ', text)\n",
        "  return text"
      ],
      "execution_count": 0,
      "outputs": []
    },
    {
      "cell_type": "code",
      "metadata": {
        "id": "UV2VCpa54hKr",
        "colab_type": "code",
        "colab": {
          "base_uri": "https://localhost:8080/",
          "height": 36
        },
        "outputId": "d5196e14-5572-42d7-cdf8-f5acf91dd904"
      },
      "source": [
        "get_text(filepath+'book.txt')[:100]"
      ],
      "execution_count": 14,
      "outputs": [
        {
          "output_type": "execute_result",
          "data": {
            "text/plain": [
              "'\\ufeffThe Project Gutenberg EBook of Crime and Punishment, by Fyodor Dostoevsky This eBook is for the use'"
            ]
          },
          "metadata": {
            "tags": []
          },
          "execution_count": 14
        }
      ]
    },
    {
      "cell_type": "code",
      "metadata": {
        "id": "JpRR5s4p4w-0",
        "colab_type": "code",
        "colab": {}
      },
      "source": [
        "! touch /content/drive/My\\ Drive/Colab\\ Notebooks/NLP_course/read.py"
      ],
      "execution_count": 0,
      "outputs": []
    },
    {
      "cell_type": "code",
      "metadata": {
        "id": "tl_k5_E76HT9",
        "colab_type": "code",
        "colab": {}
      },
      "source": [
        "import sys\n",
        "sys.path.append(filepath)"
      ],
      "execution_count": 0,
      "outputs": []
    },
    {
      "cell_type": "code",
      "metadata": {
        "id": "TKmhOHmW7RPa",
        "colab_type": "code",
        "colab": {
          "base_uri": "https://localhost:8080/",
          "height": 36
        },
        "outputId": "7b7d56ca-8f22-48a1-b248-f3d9111b7844"
      },
      "source": [
        "import read\n",
        "read.get_text(filepath + 'book.txt')[:100]"
      ],
      "execution_count": 25,
      "outputs": [
        {
          "output_type": "execute_result",
          "data": {
            "text/plain": [
              "'\\ufeffThe Project Gutenberg EBook of Crime and Punishment, by Fyodor Dostoevsky This eBook is for the use'"
            ]
          },
          "metadata": {
            "tags": []
          },
          "execution_count": 25
        }
      ]
    },
    {
      "cell_type": "code",
      "metadata": {
        "id": "3U7K8gaw7amu",
        "colab_type": "code",
        "colab": {}
      },
      "source": [
        ""
      ],
      "execution_count": 0,
      "outputs": []
    }
  ]
}